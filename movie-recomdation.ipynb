{
 "cells": [
  {
   "cell_type": "code",
   "execution_count": 1,
   "id": "9f08d213",
   "metadata": {},
   "outputs": [],
   "source": [
    "import pandas as pd  \n",
    "import numpy as np  \n",
    "import csv \n",
    "import seaborn as sns\n",
    "import matplotlib.pyplot as plt\n",
    "%matplotlib inline"
   ]
  },
  {
   "cell_type": "code",
   "execution_count": 2,
   "id": "aaac320f",
   "metadata": {},
   "outputs": [
    {
     "data": {
      "text/html": [
       "<div>\n",
       "<style scoped>\n",
       "    .dataframe tbody tr th:only-of-type {\n",
       "        vertical-align: middle;\n",
       "    }\n",
       "\n",
       "    .dataframe tbody tr th {\n",
       "        vertical-align: top;\n",
       "    }\n",
       "\n",
       "    .dataframe thead th {\n",
       "        text-align: right;\n",
       "    }\n",
       "</style>\n",
       "<table border=\"1\" class=\"dataframe\">\n",
       "  <thead>\n",
       "    <tr style=\"text-align: right;\">\n",
       "      <th></th>\n",
       "      <th>id</th>\n",
       "      <th>imdb_id</th>\n",
       "      <th>popularity</th>\n",
       "      <th>budget</th>\n",
       "      <th>revenue</th>\n",
       "      <th>original_title</th>\n",
       "      <th>cast</th>\n",
       "      <th>homepage</th>\n",
       "      <th>director</th>\n",
       "      <th>tagline</th>\n",
       "      <th>...</th>\n",
       "      <th>overview</th>\n",
       "      <th>runtime</th>\n",
       "      <th>genres</th>\n",
       "      <th>production_companies</th>\n",
       "      <th>release_date</th>\n",
       "      <th>vote_count</th>\n",
       "      <th>vote_average</th>\n",
       "      <th>release_year</th>\n",
       "      <th>budget_adj</th>\n",
       "      <th>revenue_adj</th>\n",
       "    </tr>\n",
       "  </thead>\n",
       "  <tbody>\n",
       "    <tr>\n",
       "      <th>0</th>\n",
       "      <td>135397</td>\n",
       "      <td>tt0369610</td>\n",
       "      <td>32.985763</td>\n",
       "      <td>150000000</td>\n",
       "      <td>1513528810</td>\n",
       "      <td>Jurassic World</td>\n",
       "      <td>Chris Pratt|Bryce Dallas Howard|Irrfan Khan|Vi...</td>\n",
       "      <td>http://www.jurassicworld.com/</td>\n",
       "      <td>Colin Trevorrow</td>\n",
       "      <td>The park is open.</td>\n",
       "      <td>...</td>\n",
       "      <td>Twenty-two years after the events of Jurassic ...</td>\n",
       "      <td>124</td>\n",
       "      <td>Action|Adventure|Science Fiction|Thriller</td>\n",
       "      <td>Universal Studios|Amblin Entertainment|Legenda...</td>\n",
       "      <td>6/9/15</td>\n",
       "      <td>5562</td>\n",
       "      <td>6.5</td>\n",
       "      <td>2015</td>\n",
       "      <td>1.379999e+08</td>\n",
       "      <td>1.392446e+09</td>\n",
       "    </tr>\n",
       "    <tr>\n",
       "      <th>1</th>\n",
       "      <td>76341</td>\n",
       "      <td>tt1392190</td>\n",
       "      <td>28.419936</td>\n",
       "      <td>150000000</td>\n",
       "      <td>378436354</td>\n",
       "      <td>Mad Max: Fury Road</td>\n",
       "      <td>Tom Hardy|Charlize Theron|Hugh Keays-Byrne|Nic...</td>\n",
       "      <td>http://www.madmaxmovie.com/</td>\n",
       "      <td>George Miller</td>\n",
       "      <td>What a Lovely Day.</td>\n",
       "      <td>...</td>\n",
       "      <td>An apocalyptic story set in the furthest reach...</td>\n",
       "      <td>120</td>\n",
       "      <td>Action|Adventure|Science Fiction|Thriller</td>\n",
       "      <td>Village Roadshow Pictures|Kennedy Miller Produ...</td>\n",
       "      <td>5/13/15</td>\n",
       "      <td>6185</td>\n",
       "      <td>7.1</td>\n",
       "      <td>2015</td>\n",
       "      <td>1.379999e+08</td>\n",
       "      <td>3.481613e+08</td>\n",
       "    </tr>\n",
       "    <tr>\n",
       "      <th>2</th>\n",
       "      <td>262500</td>\n",
       "      <td>tt2908446</td>\n",
       "      <td>13.112507</td>\n",
       "      <td>110000000</td>\n",
       "      <td>295238201</td>\n",
       "      <td>Insurgent</td>\n",
       "      <td>Shailene Woodley|Theo James|Kate Winslet|Ansel...</td>\n",
       "      <td>http://www.thedivergentseries.movie/#insurgent</td>\n",
       "      <td>Robert Schwentke</td>\n",
       "      <td>One Choice Can Destroy You</td>\n",
       "      <td>...</td>\n",
       "      <td>Beatrice Prior must confront her inner demons ...</td>\n",
       "      <td>119</td>\n",
       "      <td>Adventure|Science Fiction|Thriller</td>\n",
       "      <td>Summit Entertainment|Mandeville Films|Red Wago...</td>\n",
       "      <td>3/18/15</td>\n",
       "      <td>2480</td>\n",
       "      <td>6.3</td>\n",
       "      <td>2015</td>\n",
       "      <td>1.012000e+08</td>\n",
       "      <td>2.716190e+08</td>\n",
       "    </tr>\n",
       "    <tr>\n",
       "      <th>3</th>\n",
       "      <td>140607</td>\n",
       "      <td>tt2488496</td>\n",
       "      <td>11.173104</td>\n",
       "      <td>200000000</td>\n",
       "      <td>2068178225</td>\n",
       "      <td>Star Wars: The Force Awakens</td>\n",
       "      <td>Harrison Ford|Mark Hamill|Carrie Fisher|Adam D...</td>\n",
       "      <td>http://www.starwars.com/films/star-wars-episod...</td>\n",
       "      <td>J.J. Abrams</td>\n",
       "      <td>Every generation has a story.</td>\n",
       "      <td>...</td>\n",
       "      <td>Thirty years after defeating the Galactic Empi...</td>\n",
       "      <td>136</td>\n",
       "      <td>Action|Adventure|Science Fiction|Fantasy</td>\n",
       "      <td>Lucasfilm|Truenorth Productions|Bad Robot</td>\n",
       "      <td>12/15/15</td>\n",
       "      <td>5292</td>\n",
       "      <td>7.5</td>\n",
       "      <td>2015</td>\n",
       "      <td>1.839999e+08</td>\n",
       "      <td>1.902723e+09</td>\n",
       "    </tr>\n",
       "    <tr>\n",
       "      <th>4</th>\n",
       "      <td>168259</td>\n",
       "      <td>tt2820852</td>\n",
       "      <td>9.335014</td>\n",
       "      <td>190000000</td>\n",
       "      <td>1506249360</td>\n",
       "      <td>Furious 7</td>\n",
       "      <td>Vin Diesel|Paul Walker|Jason Statham|Michelle ...</td>\n",
       "      <td>http://www.furious7.com/</td>\n",
       "      <td>James Wan</td>\n",
       "      <td>Vengeance Hits Home</td>\n",
       "      <td>...</td>\n",
       "      <td>Deckard Shaw seeks revenge against Dominic Tor...</td>\n",
       "      <td>137</td>\n",
       "      <td>Action|Crime|Thriller</td>\n",
       "      <td>Universal Pictures|Original Film|Media Rights ...</td>\n",
       "      <td>4/1/15</td>\n",
       "      <td>2947</td>\n",
       "      <td>7.3</td>\n",
       "      <td>2015</td>\n",
       "      <td>1.747999e+08</td>\n",
       "      <td>1.385749e+09</td>\n",
       "    </tr>\n",
       "  </tbody>\n",
       "</table>\n",
       "<p>5 rows × 21 columns</p>\n",
       "</div>"
      ],
      "text/plain": [
       "       id    imdb_id  popularity     budget     revenue  \\\n",
       "0  135397  tt0369610   32.985763  150000000  1513528810   \n",
       "1   76341  tt1392190   28.419936  150000000   378436354   \n",
       "2  262500  tt2908446   13.112507  110000000   295238201   \n",
       "3  140607  tt2488496   11.173104  200000000  2068178225   \n",
       "4  168259  tt2820852    9.335014  190000000  1506249360   \n",
       "\n",
       "                 original_title  \\\n",
       "0                Jurassic World   \n",
       "1            Mad Max: Fury Road   \n",
       "2                     Insurgent   \n",
       "3  Star Wars: The Force Awakens   \n",
       "4                     Furious 7   \n",
       "\n",
       "                                                cast  \\\n",
       "0  Chris Pratt|Bryce Dallas Howard|Irrfan Khan|Vi...   \n",
       "1  Tom Hardy|Charlize Theron|Hugh Keays-Byrne|Nic...   \n",
       "2  Shailene Woodley|Theo James|Kate Winslet|Ansel...   \n",
       "3  Harrison Ford|Mark Hamill|Carrie Fisher|Adam D...   \n",
       "4  Vin Diesel|Paul Walker|Jason Statham|Michelle ...   \n",
       "\n",
       "                                            homepage          director  \\\n",
       "0                      http://www.jurassicworld.com/   Colin Trevorrow   \n",
       "1                        http://www.madmaxmovie.com/     George Miller   \n",
       "2     http://www.thedivergentseries.movie/#insurgent  Robert Schwentke   \n",
       "3  http://www.starwars.com/films/star-wars-episod...       J.J. Abrams   \n",
       "4                           http://www.furious7.com/         James Wan   \n",
       "\n",
       "                         tagline  ...  \\\n",
       "0              The park is open.  ...   \n",
       "1             What a Lovely Day.  ...   \n",
       "2     One Choice Can Destroy You  ...   \n",
       "3  Every generation has a story.  ...   \n",
       "4            Vengeance Hits Home  ...   \n",
       "\n",
       "                                            overview runtime  \\\n",
       "0  Twenty-two years after the events of Jurassic ...     124   \n",
       "1  An apocalyptic story set in the furthest reach...     120   \n",
       "2  Beatrice Prior must confront her inner demons ...     119   \n",
       "3  Thirty years after defeating the Galactic Empi...     136   \n",
       "4  Deckard Shaw seeks revenge against Dominic Tor...     137   \n",
       "\n",
       "                                      genres  \\\n",
       "0  Action|Adventure|Science Fiction|Thriller   \n",
       "1  Action|Adventure|Science Fiction|Thriller   \n",
       "2         Adventure|Science Fiction|Thriller   \n",
       "3   Action|Adventure|Science Fiction|Fantasy   \n",
       "4                      Action|Crime|Thriller   \n",
       "\n",
       "                                production_companies release_date vote_count  \\\n",
       "0  Universal Studios|Amblin Entertainment|Legenda...       6/9/15       5562   \n",
       "1  Village Roadshow Pictures|Kennedy Miller Produ...      5/13/15       6185   \n",
       "2  Summit Entertainment|Mandeville Films|Red Wago...      3/18/15       2480   \n",
       "3          Lucasfilm|Truenorth Productions|Bad Robot     12/15/15       5292   \n",
       "4  Universal Pictures|Original Film|Media Rights ...       4/1/15       2947   \n",
       "\n",
       "   vote_average  release_year    budget_adj   revenue_adj  \n",
       "0           6.5          2015  1.379999e+08  1.392446e+09  \n",
       "1           7.1          2015  1.379999e+08  3.481613e+08  \n",
       "2           6.3          2015  1.012000e+08  2.716190e+08  \n",
       "3           7.5          2015  1.839999e+08  1.902723e+09  \n",
       "4           7.3          2015  1.747999e+08  1.385749e+09  \n",
       "\n",
       "[5 rows x 21 columns]"
      ]
     },
     "execution_count": 2,
     "metadata": {},
     "output_type": "execute_result"
    }
   ],
   "source": [
    "df = pd.read_csv('tmdb-movies.csv', sep=',')\n",
    "df.head()"
   ]
  },
  {
   "cell_type": "markdown",
   "id": "ee2cebad",
   "metadata": {},
   "source": [
    "# Generating the shape of our original dataframe in terms of Rows and Columns"
   ]
  },
  {
   "cell_type": "code",
   "execution_count": 3,
   "id": "bedf60f2",
   "metadata": {},
   "outputs": [
    {
     "name": "stdout",
     "output_type": "stream",
     "text": [
      "There are 10866 rows and 21 columns in the dataset.\n"
     ]
    }
   ],
   "source": [
    "print((\"There are {} rows and {} columns in the dataset.\".format(df.shape[0], df.shape[1])))"
   ]
  },
  {
   "cell_type": "code",
   "execution_count": 4,
   "id": "8895ff04",
   "metadata": {},
   "outputs": [
    {
     "name": "stdout",
     "output_type": "stream",
     "text": [
      "<class 'pandas.core.frame.DataFrame'>\n",
      "RangeIndex: 10866 entries, 0 to 10865\n",
      "Data columns (total 21 columns):\n",
      " #   Column                Non-Null Count  Dtype  \n",
      "---  ------                --------------  -----  \n",
      " 0   id                    10866 non-null  int64  \n",
      " 1   imdb_id               10856 non-null  object \n",
      " 2   popularity            10866 non-null  float64\n",
      " 3   budget                10866 non-null  int64  \n",
      " 4   revenue               10866 non-null  int64  \n",
      " 5   original_title        10866 non-null  object \n",
      " 6   cast                  10790 non-null  object \n",
      " 7   homepage              2936 non-null   object \n",
      " 8   director              10822 non-null  object \n",
      " 9   tagline               8042 non-null   object \n",
      " 10  keywords              9373 non-null   object \n",
      " 11  overview              10862 non-null  object \n",
      " 12  runtime               10866 non-null  int64  \n",
      " 13  genres                10843 non-null  object \n",
      " 14  production_companies  9836 non-null   object \n",
      " 15  release_date          10866 non-null  object \n",
      " 16  vote_count            10866 non-null  int64  \n",
      " 17  vote_average          10866 non-null  float64\n",
      " 18  release_year          10866 non-null  int64  \n",
      " 19  budget_adj            10866 non-null  float64\n",
      " 20  revenue_adj           10866 non-null  float64\n",
      "dtypes: float64(4), int64(6), object(11)\n",
      "memory usage: 1.7+ MB\n"
     ]
    }
   ],
   "source": [
    "df.info()"
   ]
  },
  {
   "cell_type": "code",
   "execution_count": 5,
   "id": "bc2181d6",
   "metadata": {},
   "outputs": [
    {
     "data": {
      "text/html": [
       "<div>\n",
       "<style scoped>\n",
       "    .dataframe tbody tr th:only-of-type {\n",
       "        vertical-align: middle;\n",
       "    }\n",
       "\n",
       "    .dataframe tbody tr th {\n",
       "        vertical-align: top;\n",
       "    }\n",
       "\n",
       "    .dataframe thead th {\n",
       "        text-align: right;\n",
       "    }\n",
       "</style>\n",
       "<table border=\"1\" class=\"dataframe\">\n",
       "  <thead>\n",
       "    <tr style=\"text-align: right;\">\n",
       "      <th></th>\n",
       "      <th>id</th>\n",
       "      <th>popularity</th>\n",
       "      <th>budget</th>\n",
       "      <th>revenue</th>\n",
       "      <th>runtime</th>\n",
       "      <th>vote_count</th>\n",
       "      <th>vote_average</th>\n",
       "      <th>release_year</th>\n",
       "      <th>budget_adj</th>\n",
       "      <th>revenue_adj</th>\n",
       "    </tr>\n",
       "  </thead>\n",
       "  <tbody>\n",
       "    <tr>\n",
       "      <th>count</th>\n",
       "      <td>10866.000000</td>\n",
       "      <td>10866.000000</td>\n",
       "      <td>1.086600e+04</td>\n",
       "      <td>1.086600e+04</td>\n",
       "      <td>10866.000000</td>\n",
       "      <td>10866.000000</td>\n",
       "      <td>10866.000000</td>\n",
       "      <td>10866.000000</td>\n",
       "      <td>1.086600e+04</td>\n",
       "      <td>1.086600e+04</td>\n",
       "    </tr>\n",
       "    <tr>\n",
       "      <th>mean</th>\n",
       "      <td>66064.177434</td>\n",
       "      <td>0.646441</td>\n",
       "      <td>1.462570e+07</td>\n",
       "      <td>3.982332e+07</td>\n",
       "      <td>102.070863</td>\n",
       "      <td>217.389748</td>\n",
       "      <td>5.974922</td>\n",
       "      <td>2001.322658</td>\n",
       "      <td>1.755104e+07</td>\n",
       "      <td>5.136436e+07</td>\n",
       "    </tr>\n",
       "    <tr>\n",
       "      <th>std</th>\n",
       "      <td>92130.136561</td>\n",
       "      <td>1.000185</td>\n",
       "      <td>3.091321e+07</td>\n",
       "      <td>1.170035e+08</td>\n",
       "      <td>31.381405</td>\n",
       "      <td>575.619058</td>\n",
       "      <td>0.935142</td>\n",
       "      <td>12.812941</td>\n",
       "      <td>3.430616e+07</td>\n",
       "      <td>1.446325e+08</td>\n",
       "    </tr>\n",
       "    <tr>\n",
       "      <th>min</th>\n",
       "      <td>5.000000</td>\n",
       "      <td>0.000065</td>\n",
       "      <td>0.000000e+00</td>\n",
       "      <td>0.000000e+00</td>\n",
       "      <td>0.000000</td>\n",
       "      <td>10.000000</td>\n",
       "      <td>1.500000</td>\n",
       "      <td>1960.000000</td>\n",
       "      <td>0.000000e+00</td>\n",
       "      <td>0.000000e+00</td>\n",
       "    </tr>\n",
       "    <tr>\n",
       "      <th>25%</th>\n",
       "      <td>10596.250000</td>\n",
       "      <td>0.207583</td>\n",
       "      <td>0.000000e+00</td>\n",
       "      <td>0.000000e+00</td>\n",
       "      <td>90.000000</td>\n",
       "      <td>17.000000</td>\n",
       "      <td>5.400000</td>\n",
       "      <td>1995.000000</td>\n",
       "      <td>0.000000e+00</td>\n",
       "      <td>0.000000e+00</td>\n",
       "    </tr>\n",
       "    <tr>\n",
       "      <th>50%</th>\n",
       "      <td>20669.000000</td>\n",
       "      <td>0.383856</td>\n",
       "      <td>0.000000e+00</td>\n",
       "      <td>0.000000e+00</td>\n",
       "      <td>99.000000</td>\n",
       "      <td>38.000000</td>\n",
       "      <td>6.000000</td>\n",
       "      <td>2006.000000</td>\n",
       "      <td>0.000000e+00</td>\n",
       "      <td>0.000000e+00</td>\n",
       "    </tr>\n",
       "    <tr>\n",
       "      <th>75%</th>\n",
       "      <td>75610.000000</td>\n",
       "      <td>0.713817</td>\n",
       "      <td>1.500000e+07</td>\n",
       "      <td>2.400000e+07</td>\n",
       "      <td>111.000000</td>\n",
       "      <td>145.750000</td>\n",
       "      <td>6.600000</td>\n",
       "      <td>2011.000000</td>\n",
       "      <td>2.085325e+07</td>\n",
       "      <td>3.369710e+07</td>\n",
       "    </tr>\n",
       "    <tr>\n",
       "      <th>max</th>\n",
       "      <td>417859.000000</td>\n",
       "      <td>32.985763</td>\n",
       "      <td>4.250000e+08</td>\n",
       "      <td>2.781506e+09</td>\n",
       "      <td>900.000000</td>\n",
       "      <td>9767.000000</td>\n",
       "      <td>9.200000</td>\n",
       "      <td>2015.000000</td>\n",
       "      <td>4.250000e+08</td>\n",
       "      <td>2.827124e+09</td>\n",
       "    </tr>\n",
       "  </tbody>\n",
       "</table>\n",
       "</div>"
      ],
      "text/plain": [
       "                  id    popularity        budget       revenue       runtime  \\\n",
       "count   10866.000000  10866.000000  1.086600e+04  1.086600e+04  10866.000000   \n",
       "mean    66064.177434      0.646441  1.462570e+07  3.982332e+07    102.070863   \n",
       "std     92130.136561      1.000185  3.091321e+07  1.170035e+08     31.381405   \n",
       "min         5.000000      0.000065  0.000000e+00  0.000000e+00      0.000000   \n",
       "25%     10596.250000      0.207583  0.000000e+00  0.000000e+00     90.000000   \n",
       "50%     20669.000000      0.383856  0.000000e+00  0.000000e+00     99.000000   \n",
       "75%     75610.000000      0.713817  1.500000e+07  2.400000e+07    111.000000   \n",
       "max    417859.000000     32.985763  4.250000e+08  2.781506e+09    900.000000   \n",
       "\n",
       "         vote_count  vote_average  release_year    budget_adj   revenue_adj  \n",
       "count  10866.000000  10866.000000  10866.000000  1.086600e+04  1.086600e+04  \n",
       "mean     217.389748      5.974922   2001.322658  1.755104e+07  5.136436e+07  \n",
       "std      575.619058      0.935142     12.812941  3.430616e+07  1.446325e+08  \n",
       "min       10.000000      1.500000   1960.000000  0.000000e+00  0.000000e+00  \n",
       "25%       17.000000      5.400000   1995.000000  0.000000e+00  0.000000e+00  \n",
       "50%       38.000000      6.000000   2006.000000  0.000000e+00  0.000000e+00  \n",
       "75%      145.750000      6.600000   2011.000000  2.085325e+07  3.369710e+07  \n",
       "max     9767.000000      9.200000   2015.000000  4.250000e+08  2.827124e+09  "
      ]
     },
     "execution_count": 5,
     "metadata": {},
     "output_type": "execute_result"
    }
   ],
   "source": [
    "df.describe()"
   ]
  },
  {
   "cell_type": "code",
   "execution_count": 6,
   "id": "554ef77a",
   "metadata": {},
   "outputs": [
    {
     "data": {
      "image/png": "[encoded data removed]",
      "text/plain": [
       "<Figure size 576x432 with 2 Axes>"
      ]
     },
     "metadata": {
      "needs_background": "light"
     },
     "output_type": "display_data"
    },
    {
     "name": "stdout",
     "output_type": "stream",
     "text": [
      "imdb_id's null rate :0.09%\n",
      "cast's null rate :0.7%\n",
      "homepage's null rate :72.98%\n",
      "director's null rate :0.4%\n",
      "tagline's null rate :25.99%\n",
      "keywords's null rate :13.74%\n",
      "overview's null rate :0.04%\n",
      "genres's null rate :0.21%\n",
      "production_companies's null rate :9.48%\n"
     ]
    }
   ],
   "source": [
    "plt.figure(figsize=(8,6))\n",
    "\n",
    "sns.heatmap(df.isnull())\n",
    "plt.show()\n",
    "\n",
    "for i in df.columns:\n",
    "    null_rate = df[i].isna().sum() / len(df) * 100 \n",
    "    if null_rate > 0 :\n",
    "        print(\"{}'s null rate :{}%\".format(i,round(null_rate,2)))"
   ]
  },
  {
   "cell_type": "markdown",
   "id": "a556eed2",
   "metadata": {},
   "source": [
    "# Observation\n",
    "\n",
    "\n",
    "homepage' has a 73% null rate clearly seen on the map. 'imdb_id', 'cast', 'director','overview' and 'genre' have very few missing values."
   ]
  },
  {
   "cell_type": "code",
   "execution_count": 8,
   "id": "136c1e43",
   "metadata": {},
   "outputs": [
    {
     "data": {
      "text/plain": [
       "budget\n",
       "0    5696\n",
       "1       4\n",
       "Name: id, dtype: int64"
      ]
     },
     "execution_count": 8,
     "metadata": {},
     "output_type": "execute_result"
    }
   ],
   "source": [
    "df_budget_count =  df.groupby('budget').count()['id']\n",
    "df_budget_count.head(2)"
   ]
  },
  {
   "cell_type": "markdown",
   "id": "3ab0cffe",
   "metadata": {},
   "source": [
    "# counting zero values in each column."
   ]
  },
  {
   "cell_type": "code",
   "execution_count": 9,
   "id": "6b9cd3f2",
   "metadata": {},
   "outputs": [
    {
     "data": {
      "text/plain": [
       "revenue\n",
       "0    6016\n",
       "2       2\n",
       "3       3\n",
       "5       2\n",
       "6       2\n",
       "Name: id, dtype: int64"
      ]
     },
     "execution_count": 9,
     "metadata": {},
     "output_type": "execute_result"
    }
   ],
   "source": [
    "df_revenue_count =  df.groupby('revenue').count()['id']\n",
    "df_revenue_count.head()"
   ]
  },
  {
   "cell_type": "code",
   "execution_count": 10,
   "id": "7aafc004",
   "metadata": {},
   "outputs": [
    {
     "data": {
      "text/plain": [
       "revenue_adj\n",
       "0.000000    6016\n",
       "2.370705       1\n",
       "Name: id, dtype: int64"
      ]
     },
     "execution_count": 10,
     "metadata": {},
     "output_type": "execute_result"
    }
   ],
   "source": [
    "df_revenue_adj_count =  df.groupby('revenue_adj').count()['id']\n",
    "df_revenue_adj_count.head(2)"
   ]
  },
  {
   "cell_type": "code",
   "execution_count": 11,
   "id": "2fd3993b",
   "metadata": {},
   "outputs": [
    {
     "data": {
      "text/plain": [
       "budget_adj\n",
       "0.000000    5696\n",
       "0.921091       1\n",
       "Name: id, dtype: int64"
      ]
     },
     "execution_count": 11,
     "metadata": {},
     "output_type": "execute_result"
    }
   ],
   "source": [
    "df_budget_adj_count =  df.groupby('budget_adj').count()['id']\n",
    "df_budget_adj_count.head(2)"
   ]
  },
  {
   "cell_type": "code",
   "execution_count": 12,
   "id": "e6e3098a",
   "metadata": {},
   "outputs": [
    {
     "data": {
      "text/plain": [
       "runtime\n",
       "0    31\n",
       "2     5\n",
       "Name: id, dtype: int64"
      ]
     },
     "execution_count": 12,
     "metadata": {},
     "output_type": "execute_result"
    }
   ],
   "source": [
    "df_runtime_count =  df.groupby('runtime').count()['id']\n",
    "df_runtime_count.head(2)"
   ]
  },
  {
   "cell_type": "markdown",
   "id": "670dfe6b",
   "metadata": {},
   "source": [
    "# Observation\n",
    "\n",
    "There are a lot of zero values specifically in budget ,revenue, budget_adj and revenue_adj. It is best we decide to keep the zero values."
   ]
  },
  {
   "cell_type": "markdown",
   "id": "27c7d689",
   "metadata": {},
   "source": [
    "# Data Cleaning\n",
    "\n",
    "Dropping Columns that are not needed and set inplace=True so we keep the changes"
   ]
  },
  {
   "cell_type": "code",
   "execution_count": 13,
   "id": "64b7caa4",
   "metadata": {},
   "outputs": [
    {
     "data": {
      "text/plain": [
       "Index(['id', 'popularity', 'budget', 'revenue', 'original_title', 'runtime',\n",
       "       'genres', 'release_date', 'vote_count', 'vote_average', 'release_year',\n",
       "       'budget_adj', 'revenue_adj'],\n",
       "      dtype='object')"
      ]
     },
     "execution_count": 13,
     "metadata": {},
     "output_type": "execute_result"
    }
   ],
   "source": [
    "df.drop(['homepage','overview','keywords', 'imdb_id', 'production_companies','cast', 'director', 'tagline',], axis=1, inplace=True)\n",
    "df.columns"
   ]
  },
  {
   "cell_type": "markdown",
   "id": "4c3ee83a",
   "metadata": {},
   "source": [
    "# Below Dataset after dropping unwanted columns"
   ]
  },
  {
   "cell_type": "code",
   "execution_count": 14,
   "id": "cea67c46",
   "metadata": {},
   "outputs": [
    {
     "name": "stdout",
     "output_type": "stream",
     "text": [
      "<class 'pandas.core.frame.DataFrame'>\n",
      "RangeIndex: 10866 entries, 0 to 10865\n",
      "Data columns (total 13 columns):\n",
      " #   Column          Non-Null Count  Dtype  \n",
      "---  ------          --------------  -----  \n",
      " 0   id              10866 non-null  int64  \n",
      " 1   popularity      10866 non-null  float64\n",
      " 2   budget          10866 non-null  int64  \n",
      " 3   revenue         10866 non-null  int64  \n",
      " 4   original_title  10866 non-null  object \n",
      " 5   runtime         10866 non-null  int64  \n",
      " 6   genres          10843 non-null  object \n",
      " 7   release_date    10866 non-null  object \n",
      " 8   vote_count      10866 non-null  int64  \n",
      " 9   vote_average    10866 non-null  float64\n",
      " 10  release_year    10866 non-null  int64  \n",
      " 11  budget_adj      10866 non-null  float64\n",
      " 12  revenue_adj     10866 non-null  float64\n",
      "dtypes: float64(4), int64(6), object(3)\n",
      "memory usage: 1.1+ MB\n"
     ]
    }
   ],
   "source": [
    "df.info()"
   ]
  },
  {
   "cell_type": "code",
   "execution_count": 15,
   "id": "58c60764",
   "metadata": {},
   "outputs": [
    {
     "data": {
      "text/html": [
       "<div>\n",
       "<style scoped>\n",
       "    .dataframe tbody tr th:only-of-type {\n",
       "        vertical-align: middle;\n",
       "    }\n",
       "\n",
       "    .dataframe tbody tr th {\n",
       "        vertical-align: top;\n",
       "    }\n",
       "\n",
       "    .dataframe thead th {\n",
       "        text-align: right;\n",
       "    }\n",
       "</style>\n",
       "<table border=\"1\" class=\"dataframe\">\n",
       "  <thead>\n",
       "    <tr style=\"text-align: right;\">\n",
       "      <th></th>\n",
       "      <th>id</th>\n",
       "      <th>popularity</th>\n",
       "      <th>budget</th>\n",
       "      <th>revenue</th>\n",
       "      <th>original_title</th>\n",
       "      <th>runtime</th>\n",
       "      <th>genres</th>\n",
       "      <th>release_date</th>\n",
       "      <th>vote_count</th>\n",
       "      <th>vote_average</th>\n",
       "      <th>release_year</th>\n",
       "      <th>budget_adj</th>\n",
       "      <th>revenue_adj</th>\n",
       "    </tr>\n",
       "  </thead>\n",
       "  <tbody>\n",
       "    <tr>\n",
       "      <th>424</th>\n",
       "      <td>363869</td>\n",
       "      <td>0.244648</td>\n",
       "      <td>0</td>\n",
       "      <td>0</td>\n",
       "      <td>Belli di papÃ</td>\n",
       "      <td>100</td>\n",
       "      <td>NaN</td>\n",
       "      <td>10/29/15</td>\n",
       "      <td>21</td>\n",
       "      <td>6.1</td>\n",
       "      <td>2015</td>\n",
       "      <td>0.00000</td>\n",
       "      <td>0.0</td>\n",
       "    </tr>\n",
       "    <tr>\n",
       "      <th>620</th>\n",
       "      <td>361043</td>\n",
       "      <td>0.129696</td>\n",
       "      <td>0</td>\n",
       "      <td>0</td>\n",
       "      <td>All Hallows' Eve 2</td>\n",
       "      <td>90</td>\n",
       "      <td>NaN</td>\n",
       "      <td>10/6/15</td>\n",
       "      <td>13</td>\n",
       "      <td>5.0</td>\n",
       "      <td>2015</td>\n",
       "      <td>0.00000</td>\n",
       "      <td>0.0</td>\n",
       "    </tr>\n",
       "    <tr>\n",
       "      <th>997</th>\n",
       "      <td>287663</td>\n",
       "      <td>0.330431</td>\n",
       "      <td>0</td>\n",
       "      <td>0</td>\n",
       "      <td>Star Wars Rebels: Spark of Rebellion</td>\n",
       "      <td>44</td>\n",
       "      <td>NaN</td>\n",
       "      <td>10/3/14</td>\n",
       "      <td>13</td>\n",
       "      <td>6.8</td>\n",
       "      <td>2014</td>\n",
       "      <td>0.00000</td>\n",
       "      <td>0.0</td>\n",
       "    </tr>\n",
       "    <tr>\n",
       "      <th>1712</th>\n",
       "      <td>21634</td>\n",
       "      <td>0.302095</td>\n",
       "      <td>0</td>\n",
       "      <td>0</td>\n",
       "      <td>Prayers for Bobby</td>\n",
       "      <td>88</td>\n",
       "      <td>NaN</td>\n",
       "      <td>2/27/09</td>\n",
       "      <td>57</td>\n",
       "      <td>7.4</td>\n",
       "      <td>2009</td>\n",
       "      <td>0.00000</td>\n",
       "      <td>0.0</td>\n",
       "    </tr>\n",
       "    <tr>\n",
       "      <th>1897</th>\n",
       "      <td>40534</td>\n",
       "      <td>0.020701</td>\n",
       "      <td>0</td>\n",
       "      <td>0</td>\n",
       "      <td>Jonas Brothers: The Concert Experience</td>\n",
       "      <td>76</td>\n",
       "      <td>NaN</td>\n",
       "      <td>2/27/09</td>\n",
       "      <td>11</td>\n",
       "      <td>7.0</td>\n",
       "      <td>2009</td>\n",
       "      <td>0.00000</td>\n",
       "      <td>0.0</td>\n",
       "    </tr>\n",
       "    <tr>\n",
       "      <th>2370</th>\n",
       "      <td>127717</td>\n",
       "      <td>0.081892</td>\n",
       "      <td>0</td>\n",
       "      <td>0</td>\n",
       "      <td>Freshman Father</td>\n",
       "      <td>0</td>\n",
       "      <td>NaN</td>\n",
       "      <td>6/5/10</td>\n",
       "      <td>12</td>\n",
       "      <td>5.8</td>\n",
       "      <td>2010</td>\n",
       "      <td>0.00000</td>\n",
       "      <td>0.0</td>\n",
       "    </tr>\n",
       "    <tr>\n",
       "      <th>2376</th>\n",
       "      <td>315620</td>\n",
       "      <td>0.068411</td>\n",
       "      <td>0</td>\n",
       "      <td>0</td>\n",
       "      <td>Doctor Who: A Christmas Carol</td>\n",
       "      <td>62</td>\n",
       "      <td>NaN</td>\n",
       "      <td>12/25/10</td>\n",
       "      <td>11</td>\n",
       "      <td>7.7</td>\n",
       "      <td>2010</td>\n",
       "      <td>0.00000</td>\n",
       "      <td>0.0</td>\n",
       "    </tr>\n",
       "    <tr>\n",
       "      <th>2853</th>\n",
       "      <td>57892</td>\n",
       "      <td>0.130018</td>\n",
       "      <td>0</td>\n",
       "      <td>0</td>\n",
       "      <td>Vizontele</td>\n",
       "      <td>110</td>\n",
       "      <td>NaN</td>\n",
       "      <td>2/2/01</td>\n",
       "      <td>12</td>\n",
       "      <td>7.2</td>\n",
       "      <td>2001</td>\n",
       "      <td>0.00000</td>\n",
       "      <td>0.0</td>\n",
       "    </tr>\n",
       "    <tr>\n",
       "      <th>3279</th>\n",
       "      <td>54330</td>\n",
       "      <td>0.145331</td>\n",
       "      <td>0</td>\n",
       "      <td>0</td>\n",
       "      <td>ì•„ê¸°ì™€ ë‚˜</td>\n",
       "      <td>96</td>\n",
       "      <td>NaN</td>\n",
       "      <td>8/13/08</td>\n",
       "      <td>11</td>\n",
       "      <td>6.1</td>\n",
       "      <td>2008</td>\n",
       "      <td>0.00000</td>\n",
       "      <td>0.0</td>\n",
       "    </tr>\n",
       "    <tr>\n",
       "      <th>4547</th>\n",
       "      <td>123024</td>\n",
       "      <td>0.520520</td>\n",
       "      <td>0</td>\n",
       "      <td>0</td>\n",
       "      <td>London 2012 Olympic Opening Ceremony: Isles of...</td>\n",
       "      <td>220</td>\n",
       "      <td>NaN</td>\n",
       "      <td>7/27/12</td>\n",
       "      <td>12</td>\n",
       "      <td>8.3</td>\n",
       "      <td>2012</td>\n",
       "      <td>0.00000</td>\n",
       "      <td>0.0</td>\n",
       "    </tr>\n",
       "    <tr>\n",
       "      <th>4732</th>\n",
       "      <td>139463</td>\n",
       "      <td>0.235911</td>\n",
       "      <td>0</td>\n",
       "      <td>0</td>\n",
       "      <td>The Scapegoat</td>\n",
       "      <td>100</td>\n",
       "      <td>NaN</td>\n",
       "      <td>9/9/12</td>\n",
       "      <td>12</td>\n",
       "      <td>6.2</td>\n",
       "      <td>2012</td>\n",
       "      <td>0.00000</td>\n",
       "      <td>0.0</td>\n",
       "    </tr>\n",
       "    <tr>\n",
       "      <th>4797</th>\n",
       "      <td>369145</td>\n",
       "      <td>0.167501</td>\n",
       "      <td>0</td>\n",
       "      <td>0</td>\n",
       "      <td>Doctor Who: The Snowmen</td>\n",
       "      <td>60</td>\n",
       "      <td>NaN</td>\n",
       "      <td>12/25/12</td>\n",
       "      <td>10</td>\n",
       "      <td>7.8</td>\n",
       "      <td>2012</td>\n",
       "      <td>0.00000</td>\n",
       "      <td>0.0</td>\n",
       "    </tr>\n",
       "    <tr>\n",
       "      <th>4890</th>\n",
       "      <td>126909</td>\n",
       "      <td>0.083202</td>\n",
       "      <td>0</td>\n",
       "      <td>0</td>\n",
       "      <td>Cousin Ben Troop Screening</td>\n",
       "      <td>2</td>\n",
       "      <td>NaN</td>\n",
       "      <td>1/1/12</td>\n",
       "      <td>14</td>\n",
       "      <td>7.0</td>\n",
       "      <td>2012</td>\n",
       "      <td>0.00000</td>\n",
       "      <td>0.0</td>\n",
       "    </tr>\n",
       "    <tr>\n",
       "      <th>5830</th>\n",
       "      <td>282848</td>\n",
       "      <td>0.248944</td>\n",
       "      <td>0</td>\n",
       "      <td>0</td>\n",
       "      <td>Doctor Who: The Time of the Doctor</td>\n",
       "      <td>60</td>\n",
       "      <td>NaN</td>\n",
       "      <td>12/25/13</td>\n",
       "      <td>26</td>\n",
       "      <td>8.5</td>\n",
       "      <td>2013</td>\n",
       "      <td>0.00000</td>\n",
       "      <td>0.0</td>\n",
       "    </tr>\n",
       "    <tr>\n",
       "      <th>5934</th>\n",
       "      <td>200204</td>\n",
       "      <td>0.067433</td>\n",
       "      <td>0</td>\n",
       "      <td>0</td>\n",
       "      <td>Prada: Candy</td>\n",
       "      <td>3</td>\n",
       "      <td>NaN</td>\n",
       "      <td>3/25/13</td>\n",
       "      <td>27</td>\n",
       "      <td>6.9</td>\n",
       "      <td>2013</td>\n",
       "      <td>0.00000</td>\n",
       "      <td>0.0</td>\n",
       "    </tr>\n",
       "    <tr>\n",
       "      <th>6043</th>\n",
       "      <td>190940</td>\n",
       "      <td>0.039080</td>\n",
       "      <td>0</td>\n",
       "      <td>0</td>\n",
       "      <td>Bombay Talkies</td>\n",
       "      <td>127</td>\n",
       "      <td>NaN</td>\n",
       "      <td>5/3/13</td>\n",
       "      <td>12</td>\n",
       "      <td>5.9</td>\n",
       "      <td>2013</td>\n",
       "      <td>0.00000</td>\n",
       "      <td>0.0</td>\n",
       "    </tr>\n",
       "    <tr>\n",
       "      <th>6530</th>\n",
       "      <td>168891</td>\n",
       "      <td>0.092724</td>\n",
       "      <td>0</td>\n",
       "      <td>0</td>\n",
       "      <td>Saw Rebirth</td>\n",
       "      <td>6</td>\n",
       "      <td>NaN</td>\n",
       "      <td>10/24/05</td>\n",
       "      <td>24</td>\n",
       "      <td>5.9</td>\n",
       "      <td>2005</td>\n",
       "      <td>0.00000</td>\n",
       "      <td>0.0</td>\n",
       "    </tr>\n",
       "    <tr>\n",
       "      <th>8234</th>\n",
       "      <td>56804</td>\n",
       "      <td>0.028874</td>\n",
       "      <td>0</td>\n",
       "      <td>0</td>\n",
       "      <td>Viaggi di nozze</td>\n",
       "      <td>103</td>\n",
       "      <td>NaN</td>\n",
       "      <td>12/15/95</td>\n",
       "      <td>44</td>\n",
       "      <td>6.7</td>\n",
       "      <td>1995</td>\n",
       "      <td>0.00000</td>\n",
       "      <td>0.0</td>\n",
       "    </tr>\n",
       "    <tr>\n",
       "      <th>8614</th>\n",
       "      <td>65595</td>\n",
       "      <td>0.273934</td>\n",
       "      <td>0</td>\n",
       "      <td>0</td>\n",
       "      <td>T2 3-D: Battle Across Time</td>\n",
       "      <td>12</td>\n",
       "      <td>NaN</td>\n",
       "      <td>1/1/96</td>\n",
       "      <td>14</td>\n",
       "      <td>6.7</td>\n",
       "      <td>1996</td>\n",
       "      <td>0.00000</td>\n",
       "      <td>0.0</td>\n",
       "    </tr>\n",
       "    <tr>\n",
       "      <th>8878</th>\n",
       "      <td>92208</td>\n",
       "      <td>0.038045</td>\n",
       "      <td>0</td>\n",
       "      <td>0</td>\n",
       "      <td>Mom's Got a Date With a Vampire</td>\n",
       "      <td>85</td>\n",
       "      <td>NaN</td>\n",
       "      <td>10/13/00</td>\n",
       "      <td>16</td>\n",
       "      <td>5.4</td>\n",
       "      <td>2000</td>\n",
       "      <td>0.00000</td>\n",
       "      <td>0.0</td>\n",
       "    </tr>\n",
       "    <tr>\n",
       "      <th>9307</th>\n",
       "      <td>141859</td>\n",
       "      <td>0.094652</td>\n",
       "      <td>0</td>\n",
       "      <td>0</td>\n",
       "      <td>Goldeneye</td>\n",
       "      <td>105</td>\n",
       "      <td>NaN</td>\n",
       "      <td>8/26/89</td>\n",
       "      <td>10</td>\n",
       "      <td>5.3</td>\n",
       "      <td>1989</td>\n",
       "      <td>0.00000</td>\n",
       "      <td>0.0</td>\n",
       "    </tr>\n",
       "    <tr>\n",
       "      <th>9799</th>\n",
       "      <td>48847</td>\n",
       "      <td>0.175008</td>\n",
       "      <td>0</td>\n",
       "      <td>0</td>\n",
       "      <td>The Amputee</td>\n",
       "      <td>5</td>\n",
       "      <td>NaN</td>\n",
       "      <td>1/1/74</td>\n",
       "      <td>11</td>\n",
       "      <td>5.0</td>\n",
       "      <td>1974</td>\n",
       "      <td>0.00000</td>\n",
       "      <td>0.0</td>\n",
       "    </tr>\n",
       "    <tr>\n",
       "      <th>10659</th>\n",
       "      <td>4255</td>\n",
       "      <td>0.344172</td>\n",
       "      <td>5000</td>\n",
       "      <td>0</td>\n",
       "      <td>The Party at Kitty and Stud's</td>\n",
       "      <td>71</td>\n",
       "      <td>NaN</td>\n",
       "      <td>2/10/70</td>\n",
       "      <td>10</td>\n",
       "      <td>3.0</td>\n",
       "      <td>1970</td>\n",
       "      <td>28081.84172</td>\n",
       "      <td>0.0</td>\n",
       "    </tr>\n",
       "  </tbody>\n",
       "</table>\n",
       "</div>"
      ],
      "text/plain": [
       "           id  popularity  budget  revenue  \\\n",
       "424    363869    0.244648       0        0   \n",
       "620    361043    0.129696       0        0   \n",
       "997    287663    0.330431       0        0   \n",
       "1712    21634    0.302095       0        0   \n",
       "1897    40534    0.020701       0        0   \n",
       "2370   127717    0.081892       0        0   \n",
       "2376   315620    0.068411       0        0   \n",
       "2853    57892    0.130018       0        0   \n",
       "3279    54330    0.145331       0        0   \n",
       "4547   123024    0.520520       0        0   \n",
       "4732   139463    0.235911       0        0   \n",
       "4797   369145    0.167501       0        0   \n",
       "4890   126909    0.083202       0        0   \n",
       "5830   282848    0.248944       0        0   \n",
       "5934   200204    0.067433       0        0   \n",
       "6043   190940    0.039080       0        0   \n",
       "6530   168891    0.092724       0        0   \n",
       "8234    56804    0.028874       0        0   \n",
       "8614    65595    0.273934       0        0   \n",
       "8878    92208    0.038045       0        0   \n",
       "9307   141859    0.094652       0        0   \n",
       "9799    48847    0.175008       0        0   \n",
       "10659    4255    0.344172    5000        0   \n",
       "\n",
       "                                          original_title  runtime genres  \\\n",
       "424                                       Belli di papÃ       100    NaN   \n",
       "620                                   All Hallows' Eve 2       90    NaN   \n",
       "997                 Star Wars Rebels: Spark of Rebellion       44    NaN   \n",
       "1712                                   Prayers for Bobby       88    NaN   \n",
       "1897              Jonas Brothers: The Concert Experience       76    NaN   \n",
       "2370                                     Freshman Father        0    NaN   \n",
       "2376                       Doctor Who: A Christmas Carol       62    NaN   \n",
       "2853                                           Vizontele      110    NaN   \n",
       "3279                                       ì•„ê¸°ì™€ ë‚˜       96    NaN   \n",
       "4547   London 2012 Olympic Opening Ceremony: Isles of...      220    NaN   \n",
       "4732                                       The Scapegoat      100    NaN   \n",
       "4797                             Doctor Who: The Snowmen       60    NaN   \n",
       "4890                          Cousin Ben Troop Screening        2    NaN   \n",
       "5830                  Doctor Who: The Time of the Doctor       60    NaN   \n",
       "5934                                        Prada: Candy        3    NaN   \n",
       "6043                                      Bombay Talkies      127    NaN   \n",
       "6530                                         Saw Rebirth        6    NaN   \n",
       "8234                                     Viaggi di nozze      103    NaN   \n",
       "8614                          T2 3-D: Battle Across Time       12    NaN   \n",
       "8878                     Mom's Got a Date With a Vampire       85    NaN   \n",
       "9307                                           Goldeneye      105    NaN   \n",
       "9799                                         The Amputee        5    NaN   \n",
       "10659                      The Party at Kitty and Stud's       71    NaN   \n",
       "\n",
       "      release_date  vote_count  vote_average  release_year   budget_adj  \\\n",
       "424       10/29/15          21           6.1          2015      0.00000   \n",
       "620        10/6/15          13           5.0          2015      0.00000   \n",
       "997        10/3/14          13           6.8          2014      0.00000   \n",
       "1712       2/27/09          57           7.4          2009      0.00000   \n",
       "1897       2/27/09          11           7.0          2009      0.00000   \n",
       "2370        6/5/10          12           5.8          2010      0.00000   \n",
       "2376      12/25/10          11           7.7          2010      0.00000   \n",
       "2853        2/2/01          12           7.2          2001      0.00000   \n",
       "3279       8/13/08          11           6.1          2008      0.00000   \n",
       "4547       7/27/12          12           8.3          2012      0.00000   \n",
       "4732        9/9/12          12           6.2          2012      0.00000   \n",
       "4797      12/25/12          10           7.8          2012      0.00000   \n",
       "4890        1/1/12          14           7.0          2012      0.00000   \n",
       "5830      12/25/13          26           8.5          2013      0.00000   \n",
       "5934       3/25/13          27           6.9          2013      0.00000   \n",
       "6043        5/3/13          12           5.9          2013      0.00000   \n",
       "6530      10/24/05          24           5.9          2005      0.00000   \n",
       "8234      12/15/95          44           6.7          1995      0.00000   \n",
       "8614        1/1/96          14           6.7          1996      0.00000   \n",
       "8878      10/13/00          16           5.4          2000      0.00000   \n",
       "9307       8/26/89          10           5.3          1989      0.00000   \n",
       "9799        1/1/74          11           5.0          1974      0.00000   \n",
       "10659      2/10/70          10           3.0          1970  28081.84172   \n",
       "\n",
       "       revenue_adj  \n",
       "424            0.0  \n",
       "620            0.0  \n",
       "997            0.0  \n",
       "1712           0.0  \n",
       "1897           0.0  \n",
       "2370           0.0  \n",
       "2376           0.0  \n",
       "2853           0.0  \n",
       "3279           0.0  \n",
       "4547           0.0  \n",
       "4732           0.0  \n",
       "4797           0.0  \n",
       "4890           0.0  \n",
       "5830           0.0  \n",
       "5934           0.0  \n",
       "6043           0.0  \n",
       "6530           0.0  \n",
       "8234           0.0  \n",
       "8614           0.0  \n",
       "8878           0.0  \n",
       "9307           0.0  \n",
       "9799           0.0  \n",
       "10659          0.0  "
      ]
     },
     "execution_count": 15,
     "metadata": {},
     "output_type": "execute_result"
    }
   ],
   "source": [
    "df[df.genres.isnull()]"
   ]
  },
  {
   "cell_type": "markdown",
   "id": "52d56a89",
   "metadata": {},
   "source": [
    "# Dropping duplicates and confirm there are none"
   ]
  },
  {
   "cell_type": "code",
   "execution_count": 16,
   "id": "8012497c",
   "metadata": {},
   "outputs": [
    {
     "data": {
      "text/plain": [
       "0"
      ]
     },
     "execution_count": 16,
     "metadata": {},
     "output_type": "execute_result"
    }
   ],
   "source": [
    "df.drop_duplicates(inplace=True)\n",
    "df.duplicated().sum()"
   ]
  },
  {
   "cell_type": "code",
   "execution_count": 17,
   "id": "12f6e886",
   "metadata": {},
   "outputs": [],
   "source": [
    "df['budget'] = df['budget'].replace(0, np.NaN)\n",
    "df['revenue'] = df['revenue'].replace(0, np.NaN)\n",
    "df['budget_adj'] = df['budget_adj'].replace(0, np.NaN)\n",
    "df['revenue_adj'] = df['revenue_adj'].replace(0, np.NaN)\n",
    "df['runtime'] =df['runtime'].replace(0, np.NAN)"
   ]
  },
  {
   "cell_type": "code",
   "execution_count": 18,
   "id": "3641a1ff",
   "metadata": {},
   "outputs": [
    {
     "name": "stdout",
     "output_type": "stream",
     "text": [
      "<class 'pandas.core.frame.DataFrame'>\n",
      "Int64Index: 10865 entries, 0 to 10865\n",
      "Data columns (total 13 columns):\n",
      " #   Column          Non-Null Count  Dtype  \n",
      "---  ------          --------------  -----  \n",
      " 0   id              10865 non-null  int64  \n",
      " 1   popularity      10865 non-null  float64\n",
      " 2   budget          5169 non-null   float64\n",
      " 3   revenue         4849 non-null   float64\n",
      " 4   original_title  10865 non-null  object \n",
      " 5   runtime         10834 non-null  float64\n",
      " 6   genres          10842 non-null  object \n",
      " 7   release_date    10865 non-null  object \n",
      " 8   vote_count      10865 non-null  int64  \n",
      " 9   vote_average    10865 non-null  float64\n",
      " 10  release_year    10865 non-null  int64  \n",
      " 11  budget_adj      5169 non-null   float64\n",
      " 12  revenue_adj     4849 non-null   float64\n",
      "dtypes: float64(7), int64(3), object(3)\n",
      "memory usage: 1.2+ MB\n"
     ]
    }
   ],
   "source": [
    "df.info()"
   ]
  },
  {
   "cell_type": "markdown",
   "id": "b5793ab7",
   "metadata": {},
   "source": [
    "# replacing the zero values with the mean"
   ]
  },
  {
   "cell_type": "code",
   "execution_count": 20,
   "id": "87263b64",
   "metadata": {},
   "outputs": [
    {
     "name": "stdout",
     "output_type": "stream",
     "text": [
      "<class 'pandas.core.frame.DataFrame'>\n",
      "Int64Index: 10865 entries, 0 to 10865\n",
      "Data columns (total 13 columns):\n",
      " #   Column          Non-Null Count  Dtype  \n",
      "---  ------          --------------  -----  \n",
      " 0   id              10865 non-null  int64  \n",
      " 1   popularity      10865 non-null  float64\n",
      " 2   budget          10865 non-null  float64\n",
      " 3   revenue         10865 non-null  float64\n",
      " 4   original_title  10865 non-null  object \n",
      " 5   runtime         10865 non-null  float64\n",
      " 6   genres          10842 non-null  object \n",
      " 7   release_date    10865 non-null  object \n",
      " 8   vote_count      10865 non-null  int64  \n",
      " 9   vote_average    10865 non-null  float64\n",
      " 10  release_year    10865 non-null  int64  \n",
      " 11  budget_adj      10865 non-null  float64\n",
      " 12  revenue_adj     10865 non-null  float64\n",
      "dtypes: float64(7), int64(3), object(3)\n",
      "memory usage: 1.2+ MB\n"
     ]
    }
   ],
   "source": [
    "df.fillna(df.mean(), inplace=True);\n",
    "df.info()"
   ]
  },
  {
   "cell_type": "code",
   "execution_count": 21,
   "id": "a19ff97a",
   "metadata": {},
   "outputs": [
    {
     "data": {
      "text/html": [
       "<div>\n",
       "<style scoped>\n",
       "    .dataframe tbody tr th:only-of-type {\n",
       "        vertical-align: middle;\n",
       "    }\n",
       "\n",
       "    .dataframe tbody tr th {\n",
       "        vertical-align: top;\n",
       "    }\n",
       "\n",
       "    .dataframe thead th {\n",
       "        text-align: right;\n",
       "    }\n",
       "</style>\n",
       "<table border=\"1\" class=\"dataframe\">\n",
       "  <thead>\n",
       "    <tr style=\"text-align: right;\">\n",
       "      <th></th>\n",
       "      <th>id</th>\n",
       "      <th>popularity</th>\n",
       "      <th>budget</th>\n",
       "      <th>revenue</th>\n",
       "      <th>runtime</th>\n",
       "      <th>vote_count</th>\n",
       "      <th>vote_average</th>\n",
       "      <th>release_year</th>\n",
       "      <th>budget_adj</th>\n",
       "      <th>revenue_adj</th>\n",
       "    </tr>\n",
       "  </thead>\n",
       "  <tbody>\n",
       "    <tr>\n",
       "      <th>count</th>\n",
       "      <td>10865.000000</td>\n",
       "      <td>10865.000000</td>\n",
       "      <td>1.086500e+04</td>\n",
       "      <td>1.086500e+04</td>\n",
       "      <td>10865.000000</td>\n",
       "      <td>10865.000000</td>\n",
       "      <td>10865.000000</td>\n",
       "      <td>10865.000000</td>\n",
       "      <td>1.086500e+04</td>\n",
       "      <td>1.086500e+04</td>\n",
       "    </tr>\n",
       "    <tr>\n",
       "      <th>mean</th>\n",
       "      <td>66066.374413</td>\n",
       "      <td>0.646446</td>\n",
       "      <td>3.073958e+07</td>\n",
       "      <td>8.923886e+07</td>\n",
       "      <td>102.363855</td>\n",
       "      <td>217.399632</td>\n",
       "      <td>5.975012</td>\n",
       "      <td>2001.321859</td>\n",
       "      <td>3.688907e+07</td>\n",
       "      <td>1.151009e+08</td>\n",
       "    </tr>\n",
       "    <tr>\n",
       "      <th>std</th>\n",
       "      <td>92134.091971</td>\n",
       "      <td>1.000231</td>\n",
       "      <td>2.683275e+07</td>\n",
       "      <td>1.082720e+08</td>\n",
       "      <td>30.904039</td>\n",
       "      <td>575.644627</td>\n",
       "      <td>0.935138</td>\n",
       "      <td>12.813260</td>\n",
       "      <td>2.894088e+07</td>\n",
       "      <td>1.328386e+08</td>\n",
       "    </tr>\n",
       "    <tr>\n",
       "      <th>min</th>\n",
       "      <td>5.000000</td>\n",
       "      <td>0.000065</td>\n",
       "      <td>1.000000e+00</td>\n",
       "      <td>2.000000e+00</td>\n",
       "      <td>2.000000</td>\n",
       "      <td>10.000000</td>\n",
       "      <td>1.500000</td>\n",
       "      <td>1960.000000</td>\n",
       "      <td>9.210911e-01</td>\n",
       "      <td>2.370705e+00</td>\n",
       "    </tr>\n",
       "    <tr>\n",
       "      <th>25%</th>\n",
       "      <td>10596.000000</td>\n",
       "      <td>0.207575</td>\n",
       "      <td>1.925000e+07</td>\n",
       "      <td>4.109806e+07</td>\n",
       "      <td>90.000000</td>\n",
       "      <td>17.000000</td>\n",
       "      <td>5.400000</td>\n",
       "      <td>1995.000000</td>\n",
       "      <td>2.460594e+07</td>\n",
       "      <td>5.878518e+07</td>\n",
       "    </tr>\n",
       "    <tr>\n",
       "      <th>50%</th>\n",
       "      <td>20662.000000</td>\n",
       "      <td>0.383831</td>\n",
       "      <td>3.073958e+07</td>\n",
       "      <td>8.923886e+07</td>\n",
       "      <td>99.000000</td>\n",
       "      <td>38.000000</td>\n",
       "      <td>6.000000</td>\n",
       "      <td>2006.000000</td>\n",
       "      <td>3.688907e+07</td>\n",
       "      <td>1.151009e+08</td>\n",
       "    </tr>\n",
       "    <tr>\n",
       "      <th>75%</th>\n",
       "      <td>75612.000000</td>\n",
       "      <td>0.713857</td>\n",
       "      <td>3.073958e+07</td>\n",
       "      <td>8.923886e+07</td>\n",
       "      <td>111.000000</td>\n",
       "      <td>146.000000</td>\n",
       "      <td>6.600000</td>\n",
       "      <td>2011.000000</td>\n",
       "      <td>3.688907e+07</td>\n",
       "      <td>1.151009e+08</td>\n",
       "    </tr>\n",
       "    <tr>\n",
       "      <th>max</th>\n",
       "      <td>417859.000000</td>\n",
       "      <td>32.985763</td>\n",
       "      <td>4.250000e+08</td>\n",
       "      <td>2.781506e+09</td>\n",
       "      <td>900.000000</td>\n",
       "      <td>9767.000000</td>\n",
       "      <td>9.200000</td>\n",
       "      <td>2015.000000</td>\n",
       "      <td>4.250000e+08</td>\n",
       "      <td>2.827124e+09</td>\n",
       "    </tr>\n",
       "  </tbody>\n",
       "</table>\n",
       "</div>"
      ],
      "text/plain": [
       "                  id    popularity        budget       revenue       runtime  \\\n",
       "count   10865.000000  10865.000000  1.086500e+04  1.086500e+04  10865.000000   \n",
       "mean    66066.374413      0.646446  3.073958e+07  8.923886e+07    102.363855   \n",
       "std     92134.091971      1.000231  2.683275e+07  1.082720e+08     30.904039   \n",
       "min         5.000000      0.000065  1.000000e+00  2.000000e+00      2.000000   \n",
       "25%     10596.000000      0.207575  1.925000e+07  4.109806e+07     90.000000   \n",
       "50%     20662.000000      0.383831  3.073958e+07  8.923886e+07     99.000000   \n",
       "75%     75612.000000      0.713857  3.073958e+07  8.923886e+07    111.000000   \n",
       "max    417859.000000     32.985763  4.250000e+08  2.781506e+09    900.000000   \n",
       "\n",
       "         vote_count  vote_average  release_year    budget_adj   revenue_adj  \n",
       "count  10865.000000  10865.000000  10865.000000  1.086500e+04  1.086500e+04  \n",
       "mean     217.399632      5.975012   2001.321859  3.688907e+07  1.151009e+08  \n",
       "std      575.644627      0.935138     12.813260  2.894088e+07  1.328386e+08  \n",
       "min       10.000000      1.500000   1960.000000  9.210911e-01  2.370705e+00  \n",
       "25%       17.000000      5.400000   1995.000000  2.460594e+07  5.878518e+07  \n",
       "50%       38.000000      6.000000   2006.000000  3.688907e+07  1.151009e+08  \n",
       "75%      146.000000      6.600000   2011.000000  3.688907e+07  1.151009e+08  \n",
       "max     9767.000000      9.200000   2015.000000  4.250000e+08  2.827124e+09  "
      ]
     },
     "execution_count": 21,
     "metadata": {},
     "output_type": "execute_result"
    }
   ],
   "source": [
    "df.describe()"
   ]
  },
  {
   "cell_type": "code",
   "execution_count": 22,
   "id": "4f358121",
   "metadata": {},
   "outputs": [
    {
     "data": {
      "text/html": [
       "<div>\n",
       "<style scoped>\n",
       "    .dataframe tbody tr th:only-of-type {\n",
       "        vertical-align: middle;\n",
       "    }\n",
       "\n",
       "    .dataframe tbody tr th {\n",
       "        vertical-align: top;\n",
       "    }\n",
       "\n",
       "    .dataframe thead th {\n",
       "        text-align: right;\n",
       "    }\n",
       "</style>\n",
       "<table border=\"1\" class=\"dataframe\">\n",
       "  <thead>\n",
       "    <tr style=\"text-align: right;\">\n",
       "      <th></th>\n",
       "      <th>id</th>\n",
       "      <th>popularity</th>\n",
       "      <th>budget</th>\n",
       "      <th>revenue</th>\n",
       "      <th>original_title</th>\n",
       "      <th>runtime</th>\n",
       "      <th>genres</th>\n",
       "      <th>release_date</th>\n",
       "      <th>vote_count</th>\n",
       "      <th>vote_average</th>\n",
       "      <th>release_year</th>\n",
       "      <th>budget_adj</th>\n",
       "      <th>revenue_adj</th>\n",
       "    </tr>\n",
       "  </thead>\n",
       "  <tbody>\n",
       "    <tr>\n",
       "      <th>0</th>\n",
       "      <td>135397</td>\n",
       "      <td>32.985763</td>\n",
       "      <td>150000000.0</td>\n",
       "      <td>1.513529e+09</td>\n",
       "      <td>Jurassic World</td>\n",
       "      <td>124.0</td>\n",
       "      <td>Action|Adventure|Science Fiction|Thriller</td>\n",
       "      <td>6/9/15</td>\n",
       "      <td>5562</td>\n",
       "      <td>6.5</td>\n",
       "      <td>2015</td>\n",
       "      <td>1.379999e+08</td>\n",
       "      <td>1.392446e+09</td>\n",
       "    </tr>\n",
       "    <tr>\n",
       "      <th>1</th>\n",
       "      <td>76341</td>\n",
       "      <td>28.419936</td>\n",
       "      <td>150000000.0</td>\n",
       "      <td>3.784364e+08</td>\n",
       "      <td>Mad Max: Fury Road</td>\n",
       "      <td>120.0</td>\n",
       "      <td>Action|Adventure|Science Fiction|Thriller</td>\n",
       "      <td>5/13/15</td>\n",
       "      <td>6185</td>\n",
       "      <td>7.1</td>\n",
       "      <td>2015</td>\n",
       "      <td>1.379999e+08</td>\n",
       "      <td>3.481613e+08</td>\n",
       "    </tr>\n",
       "  </tbody>\n",
       "</table>\n",
       "</div>"
      ],
      "text/plain": [
       "       id  popularity       budget       revenue      original_title  runtime  \\\n",
       "0  135397   32.985763  150000000.0  1.513529e+09      Jurassic World    124.0   \n",
       "1   76341   28.419936  150000000.0  3.784364e+08  Mad Max: Fury Road    120.0   \n",
       "\n",
       "                                      genres release_date  vote_count  \\\n",
       "0  Action|Adventure|Science Fiction|Thriller       6/9/15        5562   \n",
       "1  Action|Adventure|Science Fiction|Thriller      5/13/15        6185   \n",
       "\n",
       "   vote_average  release_year    budget_adj   revenue_adj  \n",
       "0           6.5          2015  1.379999e+08  1.392446e+09  \n",
       "1           7.1          2015  1.379999e+08  3.481613e+08  "
      ]
     },
     "execution_count": 22,
     "metadata": {},
     "output_type": "execute_result"
    }
   ],
   "source": [
    "df.head(2)"
   ]
  },
  {
   "cell_type": "code",
   "execution_count": 23,
   "id": "961630da",
   "metadata": {},
   "outputs": [
    {
     "data": {
      "text/plain": [
       "0   2015-06-09\n",
       "1   2015-05-13\n",
       "2   2015-03-18\n",
       "3   2015-12-15\n",
       "4   2015-04-01\n",
       "Name: release_date, dtype: datetime64[ns]"
      ]
     },
     "execution_count": 23,
     "metadata": {},
     "output_type": "execute_result"
    }
   ],
   "source": [
    "df['release_date'] = pd.to_datetime(df['release_date'])\n",
    "df.dtypes\n",
    "df['release_date'].head()"
   ]
  },
  {
   "cell_type": "markdown",
   "id": "f9cbeb22",
   "metadata": {},
   "source": [
    "# Exploratory Data Analysis\n",
    "\n",
    "Using a histogram to visualize what the data looks like for each column."
   ]
  },
  {
   "cell_type": "code",
   "execution_count": 24,
   "id": "6d931883",
   "metadata": {},
   "outputs": [
    {
     "data": {
      "image/png": "[encoded data removed]",
      "text/plain": [
       "<Figure size 720x720 with 12 Axes>"
      ]
     },
     "metadata": {
      "needs_background": "light"
     },
     "output_type": "display_data"
    }
   ],
   "source": [
    "df.hist(figsize=(10,10));"
   ]
  },
  {
   "cell_type": "markdown",
   "id": "0f169fd9",
   "metadata": {},
   "source": [
    "# What are the number of movies released each year?"
   ]
  },
  {
   "cell_type": "code",
   "execution_count": 25,
   "id": "955fc31d",
   "metadata": {},
   "outputs": [
    {
     "data": {
      "text/plain": [
       "release_year\n",
       "1960    32\n",
       "1961    31\n",
       "1962    32\n",
       "1963    34\n",
       "1964    42\n",
       "Name: id, dtype: int64"
      ]
     },
     "execution_count": 25,
     "metadata": {},
     "output_type": "execute_result"
    }
   ],
   "source": [
    "movie_released= df.groupby('release_year').count()['id']\n",
    "movie_released.head()"
   ]
  },
  {
   "cell_type": "code",
   "execution_count": 29,
   "id": "0f83411a",
   "metadata": {},
   "outputs": [
    {
     "data": {
      "text/plain": [
       "Text(0, 0.5, 'Number of Movies')"
      ]
     },
     "execution_count": 29,
     "metadata": {},
     "output_type": "execute_result"
    },
    {
     "data": {
      "image/png": "[encoded data removed]",
      "text/plain": [
       "<Figure size 720x360 with 1 Axes>"
      ]
     },
     "metadata": {},
     "output_type": "display_data"
    }
   ],
   "source": [
    "sns.set_style('darkgrid')\n",
    "x = movie_released.index\n",
    "y = movie_released\n",
    "plt.figure(figsize=(10,5))\n",
    "plt.plot(x, y, color='blue')\n",
    "plt.title('Number of Movies Released by year', fontsize = 16)\n",
    "plt.xlabel('Year', fontsize=16)\n",
    "plt.ylabel('Number of Movies', fontsize=16)"
   ]
  },
  {
   "cell_type": "markdown",
   "id": "eb68376c",
   "metadata": {},
   "source": [
    "# Observation\n",
    "\n",
    "> We see that there are between 30 to 100 movies released each year between 1960 and 1980.\n",
    "> By year 2000, we are up to 200 movies per year then a sharp increase to 700 movies 15 years later."
   ]
  },
  {
   "cell_type": "markdown",
   "id": "ff4af2c5",
   "metadata": {},
   "source": [
    "# The length of the movies"
   ]
  },
  {
   "cell_type": "code",
   "execution_count": 30,
   "id": "a27a1e0f",
   "metadata": {},
   "outputs": [
    {
     "data": {
      "text/plain": [
       "102.36385453202878"
      ]
     },
     "execution_count": 30,
     "metadata": {},
     "output_type": "execute_result"
    }
   ],
   "source": [
    "df['runtime'].mean()"
   ]
  },
  {
   "cell_type": "code",
   "execution_count": 31,
   "id": "93355c38",
   "metadata": {},
   "outputs": [
    {
     "data": {
      "text/plain": [
       "count    10865.000000\n",
       "mean       102.363855\n",
       "std         30.904039\n",
       "min          2.000000\n",
       "25%         90.000000\n",
       "50%         99.000000\n",
       "75%        111.000000\n",
       "max        900.000000\n",
       "Name: runtime, dtype: float64"
      ]
     },
     "execution_count": 31,
     "metadata": {},
     "output_type": "execute_result"
    }
   ],
   "source": [
    "df['runtime'].describe()"
   ]
  },
  {
   "cell_type": "code",
   "execution_count": 32,
   "id": "49ec136e",
   "metadata": {},
   "outputs": [
    {
     "data": {
      "image/png": "[encoded data removed]",
      "text/plain": [
       "<Figure size 1000x500 with 1 Axes>"
      ]
     },
     "metadata": {},
     "output_type": "display_data"
    }
   ],
   "source": [
    "plt.figure(figsize=(10,5), dpi = 100)\n",
    "plt.xlabel('Movie Runtime (min)', fontsize = 13)\n",
    "plt.ylabel('Number of Moviest', fontsize=13)\n",
    "plt.title('Runtime of all the movies', fontsize=14)\n",
    "plt.hist(df['runtime'], rwidth = 0.9, bins =45)\n",
    "plt.show()"
   ]
  },
  {
   "cell_type": "markdown",
   "id": "b59bf9d3",
   "metadata": {},
   "source": [
    "# Observation\n",
    "\n",
    "- The dataset's average movie runtime is 102 minutes.\n",
    "- A movie lasts 900 minutes, which is too lengthy.\n",
    "- 90 minutes or less are included in 20% of films. 75 percent of the films had a duration longer than 111 minutes, compared to 99 minutes for 50% of the films.\n"
   ]
  },
  {
   "cell_type": "markdown",
   "id": "19f42fd2",
   "metadata": {},
   "source": [
    "# What are the typical movie budget and earnings?"
   ]
  },
  {
   "cell_type": "code",
   "execution_count": 33,
   "id": "b350bb6d",
   "metadata": {},
   "outputs": [
    {
     "data": {
      "text/plain": [
       "36889069.20400049"
      ]
     },
     "execution_count": 33,
     "metadata": {},
     "output_type": "execute_result"
    }
   ],
   "source": [
    "df['budget_adj'].mean()"
   ]
  },
  {
   "cell_type": "code",
   "execution_count": 34,
   "id": "9ebeb7b8",
   "metadata": {},
   "outputs": [
    {
     "data": {
      "text/plain": [
       "count    1.086500e+04\n",
       "mean     3.688907e+07\n",
       "std      2.894088e+07\n",
       "min      9.210911e-01\n",
       "25%      2.460594e+07\n",
       "50%      3.688907e+07\n",
       "75%      3.688907e+07\n",
       "max      4.250000e+08\n",
       "Name: budget_adj, dtype: float64"
      ]
     },
     "execution_count": 34,
     "metadata": {},
     "output_type": "execute_result"
    }
   ],
   "source": [
    "df['budget_adj'].describe()"
   ]
  },
  {
   "cell_type": "markdown",
   "id": "d7955428",
   "metadata": {},
   "source": [
    "# Observation\n",
    "\n",
    "The dataset's movie budgets have an average of USD 37 Million."
   ]
  },
  {
   "cell_type": "code",
   "execution_count": 35,
   "id": "61581ef8",
   "metadata": {},
   "outputs": [
    {
     "data": {
      "text/plain": [
       "115100887.62833627"
      ]
     },
     "execution_count": 35,
     "metadata": {},
     "output_type": "execute_result"
    }
   ],
   "source": [
    "df['revenue_adj'].mean()"
   ]
  },
  {
   "cell_type": "code",
   "execution_count": 36,
   "id": "1ae141db",
   "metadata": {},
   "outputs": [
    {
     "data": {
      "text/plain": [
       "count    1.086500e+04\n",
       "mean     1.151009e+08\n",
       "std      1.328386e+08\n",
       "min      2.370705e+00\n",
       "25%      5.878518e+07\n",
       "50%      1.151009e+08\n",
       "75%      1.151009e+08\n",
       "max      2.827124e+09\n",
       "Name: revenue_adj, dtype: float64"
      ]
     },
     "execution_count": 36,
     "metadata": {},
     "output_type": "execute_result"
    }
   ],
   "source": [
    "df['revenue_adj'].describe()"
   ]
  },
  {
   "cell_type": "markdown",
   "id": "99a4c8ae",
   "metadata": {},
   "source": [
    "# The dataset's movie revenues on average total USD 115 Million"
   ]
  },
  {
   "cell_type": "markdown",
   "id": "1eae5a10",
   "metadata": {},
   "source": [
    "# What connection exists between movie budget and box office take?"
   ]
  },
  {
   "cell_type": "code",
   "execution_count": 37,
   "id": "ce184dde",
   "metadata": {},
   "outputs": [],
   "source": [
    "budgets = df.groupby('release_year').mean()['budget_adj']\n",
    "revenues = df.groupby('release_year').mean()['revenue_adj']"
   ]
  },
  {
   "cell_type": "code",
   "execution_count": 38,
   "id": "6086cc35",
   "metadata": {},
   "outputs": [
    {
     "data": {
      "image/png": "[encoded data removed]",
      "text/plain": [
       "<Figure size 1500x900 with 1 Axes>"
      ]
     },
     "metadata": {},
     "output_type": "display_data"
    }
   ],
   "source": [
    "sns.set_style('darkgrid')\n",
    "x1 = budgets.index\n",
    "y1 = budgets\n",
    "x2 = revenues.index\n",
    "y2 = revenues\n",
    "plt.figure(figsize=(10,6), dpi = 150)\n",
    "plt.scatter(x1, y1, color='blue', label = 'Budget')\n",
    "plt.scatter(x2, y2, color='red', label = 'Revenue')\n",
    "plt.title('Budget and Revenue Yearly Comparison')\n",
    "plt.xlabel('Year')\n",
    "plt.ylabel('Budget and Revenue(USD)')\n",
    "plt.legend(loc = 'upper right')\n",
    "plt.show();"
   ]
  },
  {
   "cell_type": "markdown",
   "id": "204024d6",
   "metadata": {},
   "source": [
    "# How many films fall under each genre?"
   ]
  },
  {
   "cell_type": "code",
   "execution_count": 39,
   "id": "876c66b1",
   "metadata": {},
   "outputs": [],
   "source": [
    "def extract_data(genres):\n",
    "    data = df[genres].str.cat(sep = '|')\n",
    "    data= pd.Series(data.split('|')) \n",
    "    count= data.value_counts(ascending=False)   \n",
    "    return count   "
   ]
  },
  {
   "cell_type": "code",
   "execution_count": 40,
   "id": "727be1c1",
   "metadata": {},
   "outputs": [
    {
     "data": {
      "text/plain": [
       "Drama              4760\n",
       "Comedy             3793\n",
       "Thriller           2907\n",
       "Action             2384\n",
       "Romance            1712\n",
       "Horror             1637\n",
       "Adventure          1471\n",
       "Crime              1354\n",
       "Family             1231\n",
       "Science Fiction    1229\n",
       "Fantasy             916\n",
       "Mystery             810\n",
       "Animation           699\n",
       "Documentary         520\n",
       "Music               408\n",
       "History             334\n",
       "War                 270\n",
       "Foreign             188\n",
       "TV Movie            167\n",
       "Western             165\n",
       "dtype: int64"
      ]
     },
     "execution_count": 40,
     "metadata": {},
     "output_type": "execute_result"
    }
   ],
   "source": [
    "genres = extract_data('genres')\n",
    "genres.head(20)"
   ]
  },
  {
   "cell_type": "code",
   "execution_count": 41,
   "id": "50424cd0",
   "metadata": {},
   "outputs": [
    {
     "data": {
      "image/png": "[encoded data removed]",
      "text/plain": [
       "<Figure size 1008x720 with 1 Axes>"
      ]
     },
     "metadata": {},
     "output_type": "display_data"
    }
   ],
   "source": [
    "sns.set_style('darkgrid')\n",
    "genres.sort_values(ascending = True, inplace = True)\n",
    "ax = genres.plot.barh(color = 'green', fontsize = 15)\n",
    "ax.set_title('The Most filmed genres',size =20)\n",
    "ax.set_xlabel('Number of Movies', fontsize = 15)\n",
    "ax.figure.set_size_inches(14, 10)\n",
    "plt.show()"
   ]
  },
  {
   "cell_type": "markdown",
   "id": "e56eb15c",
   "metadata": {},
   "source": [
    "# observation \n",
    "\n",
    "Given that there are 4760 films in the area of drama, it must be quite popular. A close second is comedy, with 3793 works in that category. Less than 200 films fall under the categories of foreign, TV movies, and westerns."
   ]
  },
  {
   "cell_type": "markdown",
   "id": "34fac4d2",
   "metadata": {},
   "source": [
    "# What is the most profitable movie?"
   ]
  },
  {
   "cell_type": "code",
   "execution_count": 42,
   "id": "1bd9d78c",
   "metadata": {},
   "outputs": [
    {
     "data": {
      "text/html": [
       "<div>\n",
       "<style scoped>\n",
       "    .dataframe tbody tr th:only-of-type {\n",
       "        vertical-align: middle;\n",
       "    }\n",
       "\n",
       "    .dataframe tbody tr th {\n",
       "        vertical-align: top;\n",
       "    }\n",
       "\n",
       "    .dataframe thead th {\n",
       "        text-align: right;\n",
       "    }\n",
       "</style>\n",
       "<table border=\"1\" class=\"dataframe\">\n",
       "  <thead>\n",
       "    <tr style=\"text-align: right;\">\n",
       "      <th></th>\n",
       "      <th>id</th>\n",
       "      <th>popularity</th>\n",
       "      <th>budget</th>\n",
       "      <th>revenue</th>\n",
       "      <th>original_title</th>\n",
       "      <th>runtime</th>\n",
       "      <th>genres</th>\n",
       "      <th>release_date</th>\n",
       "      <th>vote_count</th>\n",
       "      <th>vote_average</th>\n",
       "      <th>release_year</th>\n",
       "      <th>budget_adj</th>\n",
       "      <th>revenue_adj</th>\n",
       "      <th>Profit</th>\n",
       "    </tr>\n",
       "  </thead>\n",
       "  <tbody>\n",
       "    <tr>\n",
       "      <th>0</th>\n",
       "      <td>135397</td>\n",
       "      <td>32.985763</td>\n",
       "      <td>150000000.0</td>\n",
       "      <td>1.513529e+09</td>\n",
       "      <td>Jurassic World</td>\n",
       "      <td>124.0</td>\n",
       "      <td>Action|Adventure|Science Fiction|Thriller</td>\n",
       "      <td>2015-06-09</td>\n",
       "      <td>5562</td>\n",
       "      <td>6.5</td>\n",
       "      <td>2015</td>\n",
       "      <td>1.379999e+08</td>\n",
       "      <td>1.392446e+09</td>\n",
       "      <td>1.254446e+09</td>\n",
       "    </tr>\n",
       "    <tr>\n",
       "      <th>1</th>\n",
       "      <td>76341</td>\n",
       "      <td>28.419936</td>\n",
       "      <td>150000000.0</td>\n",
       "      <td>3.784364e+08</td>\n",
       "      <td>Mad Max: Fury Road</td>\n",
       "      <td>120.0</td>\n",
       "      <td>Action|Adventure|Science Fiction|Thriller</td>\n",
       "      <td>2015-05-13</td>\n",
       "      <td>6185</td>\n",
       "      <td>7.1</td>\n",
       "      <td>2015</td>\n",
       "      <td>1.379999e+08</td>\n",
       "      <td>3.481613e+08</td>\n",
       "      <td>2.101614e+08</td>\n",
       "    </tr>\n",
       "    <tr>\n",
       "      <th>2</th>\n",
       "      <td>262500</td>\n",
       "      <td>13.112507</td>\n",
       "      <td>110000000.0</td>\n",
       "      <td>2.952382e+08</td>\n",
       "      <td>Insurgent</td>\n",
       "      <td>119.0</td>\n",
       "      <td>Adventure|Science Fiction|Thriller</td>\n",
       "      <td>2015-03-18</td>\n",
       "      <td>2480</td>\n",
       "      <td>6.3</td>\n",
       "      <td>2015</td>\n",
       "      <td>1.012000e+08</td>\n",
       "      <td>2.716190e+08</td>\n",
       "      <td>1.704191e+08</td>\n",
       "    </tr>\n",
       "    <tr>\n",
       "      <th>3</th>\n",
       "      <td>140607</td>\n",
       "      <td>11.173104</td>\n",
       "      <td>200000000.0</td>\n",
       "      <td>2.068178e+09</td>\n",
       "      <td>Star Wars: The Force Awakens</td>\n",
       "      <td>136.0</td>\n",
       "      <td>Action|Adventure|Science Fiction|Fantasy</td>\n",
       "      <td>2015-12-15</td>\n",
       "      <td>5292</td>\n",
       "      <td>7.5</td>\n",
       "      <td>2015</td>\n",
       "      <td>1.839999e+08</td>\n",
       "      <td>1.902723e+09</td>\n",
       "      <td>1.718723e+09</td>\n",
       "    </tr>\n",
       "    <tr>\n",
       "      <th>4</th>\n",
       "      <td>168259</td>\n",
       "      <td>9.335014</td>\n",
       "      <td>190000000.0</td>\n",
       "      <td>1.506249e+09</td>\n",
       "      <td>Furious 7</td>\n",
       "      <td>137.0</td>\n",
       "      <td>Action|Crime|Thriller</td>\n",
       "      <td>2015-04-01</td>\n",
       "      <td>2947</td>\n",
       "      <td>7.3</td>\n",
       "      <td>2015</td>\n",
       "      <td>1.747999e+08</td>\n",
       "      <td>1.385749e+09</td>\n",
       "      <td>1.210949e+09</td>\n",
       "    </tr>\n",
       "  </tbody>\n",
       "</table>\n",
       "</div>"
      ],
      "text/plain": [
       "       id  popularity       budget       revenue  \\\n",
       "0  135397   32.985763  150000000.0  1.513529e+09   \n",
       "1   76341   28.419936  150000000.0  3.784364e+08   \n",
       "2  262500   13.112507  110000000.0  2.952382e+08   \n",
       "3  140607   11.173104  200000000.0  2.068178e+09   \n",
       "4  168259    9.335014  190000000.0  1.506249e+09   \n",
       "\n",
       "                 original_title  runtime  \\\n",
       "0                Jurassic World    124.0   \n",
       "1            Mad Max: Fury Road    120.0   \n",
       "2                     Insurgent    119.0   \n",
       "3  Star Wars: The Force Awakens    136.0   \n",
       "4                     Furious 7    137.0   \n",
       "\n",
       "                                      genres release_date  vote_count  \\\n",
       "0  Action|Adventure|Science Fiction|Thriller   2015-06-09        5562   \n",
       "1  Action|Adventure|Science Fiction|Thriller   2015-05-13        6185   \n",
       "2         Adventure|Science Fiction|Thriller   2015-03-18        2480   \n",
       "3   Action|Adventure|Science Fiction|Fantasy   2015-12-15        5292   \n",
       "4                      Action|Crime|Thriller   2015-04-01        2947   \n",
       "\n",
       "   vote_average  release_year    budget_adj   revenue_adj        Profit  \n",
       "0           6.5          2015  1.379999e+08  1.392446e+09  1.254446e+09  \n",
       "1           7.1          2015  1.379999e+08  3.481613e+08  2.101614e+08  \n",
       "2           6.3          2015  1.012000e+08  2.716190e+08  1.704191e+08  \n",
       "3           7.5          2015  1.839999e+08  1.902723e+09  1.718723e+09  \n",
       "4           7.3          2015  1.747999e+08  1.385749e+09  1.210949e+09  "
      ]
     },
     "execution_count": 42,
     "metadata": {},
     "output_type": "execute_result"
    }
   ],
   "source": [
    "df['Profit'] = df['revenue_adj'] - df['budget_adj']\n",
    "df.head()"
   ]
  },
  {
   "cell_type": "code",
   "execution_count": 43,
   "id": "f39dce93",
   "metadata": {},
   "outputs": [
    {
     "name": "stdout",
     "output_type": "stream",
     "text": [
      "Movie Which Has Highest Profit :  Star Wars\n",
      "Movie Which Has Lowest Profit  :  The Warrior's Way\n"
     ]
    },
    {
     "data": {
      "text/html": [
       "<div>\n",
       "<style scoped>\n",
       "    .dataframe tbody tr th:only-of-type {\n",
       "        vertical-align: middle;\n",
       "    }\n",
       "\n",
       "    .dataframe tbody tr th {\n",
       "        vertical-align: top;\n",
       "    }\n",
       "\n",
       "    .dataframe thead th {\n",
       "        text-align: right;\n",
       "    }\n",
       "</style>\n",
       "<table border=\"1\" class=\"dataframe\">\n",
       "  <thead>\n",
       "    <tr style=\"text-align: right;\">\n",
       "      <th></th>\n",
       "      <th>1329</th>\n",
       "      <th>2244</th>\n",
       "    </tr>\n",
       "  </thead>\n",
       "  <tbody>\n",
       "    <tr>\n",
       "      <th>id</th>\n",
       "      <td>11</td>\n",
       "      <td>46528</td>\n",
       "    </tr>\n",
       "    <tr>\n",
       "      <th>popularity</th>\n",
       "      <td>12.037933</td>\n",
       "      <td>0.25054</td>\n",
       "    </tr>\n",
       "    <tr>\n",
       "      <th>budget</th>\n",
       "      <td>11000000.0</td>\n",
       "      <td>425000000.0</td>\n",
       "    </tr>\n",
       "    <tr>\n",
       "      <th>revenue</th>\n",
       "      <td>775398007.0</td>\n",
       "      <td>11087569.0</td>\n",
       "    </tr>\n",
       "    <tr>\n",
       "      <th>original_title</th>\n",
       "      <td>Star Wars</td>\n",
       "      <td>The Warrior's Way</td>\n",
       "    </tr>\n",
       "    <tr>\n",
       "      <th>runtime</th>\n",
       "      <td>121.0</td>\n",
       "      <td>100.0</td>\n",
       "    </tr>\n",
       "    <tr>\n",
       "      <th>genres</th>\n",
       "      <td>Adventure|Action|Science Fiction</td>\n",
       "      <td>Adventure|Fantasy|Action|Western|Thriller</td>\n",
       "    </tr>\n",
       "    <tr>\n",
       "      <th>release_date</th>\n",
       "      <td>1977-03-20 00:00:00</td>\n",
       "      <td>2010-12-02 00:00:00</td>\n",
       "    </tr>\n",
       "    <tr>\n",
       "      <th>vote_count</th>\n",
       "      <td>4428</td>\n",
       "      <td>74</td>\n",
       "    </tr>\n",
       "    <tr>\n",
       "      <th>vote_average</th>\n",
       "      <td>7.9</td>\n",
       "      <td>6.4</td>\n",
       "    </tr>\n",
       "    <tr>\n",
       "      <th>release_year</th>\n",
       "      <td>1977</td>\n",
       "      <td>2010</td>\n",
       "    </tr>\n",
       "    <tr>\n",
       "      <th>budget_adj</th>\n",
       "      <td>39575591.358274</td>\n",
       "      <td>425000000.0</td>\n",
       "    </tr>\n",
       "    <tr>\n",
       "      <th>revenue_adj</th>\n",
       "      <td>2789712242.27745</td>\n",
       "      <td>11087569.0</td>\n",
       "    </tr>\n",
       "    <tr>\n",
       "      <th>Profit</th>\n",
       "      <td>2750136650.919176</td>\n",
       "      <td>-413912431.0</td>\n",
       "    </tr>\n",
       "  </tbody>\n",
       "</table>\n",
       "</div>"
      ],
      "text/plain": [
       "                                            1329  \\\n",
       "id                                            11   \n",
       "popularity                             12.037933   \n",
       "budget                                11000000.0   \n",
       "revenue                              775398007.0   \n",
       "original_title                         Star Wars   \n",
       "runtime                                    121.0   \n",
       "genres          Adventure|Action|Science Fiction   \n",
       "release_date                 1977-03-20 00:00:00   \n",
       "vote_count                                  4428   \n",
       "vote_average                                 7.9   \n",
       "release_year                                1977   \n",
       "budget_adj                       39575591.358274   \n",
       "revenue_adj                     2789712242.27745   \n",
       "Profit                         2750136650.919176   \n",
       "\n",
       "                                                     2244  \n",
       "id                                                  46528  \n",
       "popularity                                        0.25054  \n",
       "budget                                        425000000.0  \n",
       "revenue                                        11087569.0  \n",
       "original_title                          The Warrior's Way  \n",
       "runtime                                             100.0  \n",
       "genres          Adventure|Fantasy|Action|Western|Thriller  \n",
       "release_date                          2010-12-02 00:00:00  \n",
       "vote_count                                             74  \n",
       "vote_average                                          6.4  \n",
       "release_year                                         2010  \n",
       "budget_adj                                    425000000.0  \n",
       "revenue_adj                                    11087569.0  \n",
       "Profit                                       -413912431.0  "
      ]
     },
     "execution_count": 43,
     "metadata": {},
     "output_type": "execute_result"
    }
   ],
   "source": [
    "def find_minmax(x):\n",
    "    min_index = df[x].idxmin()\n",
    "    high_index = df[x].idxmax()\n",
    "    high = pd.DataFrame(df.loc[high_index,:])\n",
    "    low = pd.DataFrame(df.loc[min_index,:])\n",
    "    print(\"Movie Which Has Highest \"+ x + \" : \",df['original_title'][high_index])\n",
    "    print(\"Movie Which Has Lowest \"+ x + \"  : \",df['original_title'][min_index])\n",
    "    return pd.concat([high,low],axis = 1)\n",
    "find_minmax('Profit')"
   ]
  },
  {
   "cell_type": "markdown",
   "id": "4b8ad7cf",
   "metadata": {},
   "source": [
    "# Star Wars is the most profitable movie in the dataset."
   ]
  },
  {
   "cell_type": "markdown",
   "id": "486684b9",
   "metadata": {},
   "source": [
    "# Conclusion\n",
    "\n",
    "- We draw the conclusion that there has been a huge rise from the number of films released year between 1960 and 2015.\n",
    "\n",
    "- The dataset's average movie runtime is 102 minutes. A movie lasts 900 minutes, which is too lengthy. 90 minutes or less are included in 20% of films. 75 percent of the films had a duration longer than 111 minutes, compared to 99 minutes for 50% of the films.\n",
    "\n",
    "- The cost of a movie continues to be consistently less than its takings.\n",
    "\n",
    "- Revenue and the budget are positively connected. Throughout the whole year, the revenue has continued to exceed the budget.\n",
    "\n",
    "- By far, drama and comedy are the genres with the most films. The least number of films in each of the three genres included in our dataset from 1960 to 2015 are Westerns, Foreign, and TV Movies.\n",
    "\n",
    "- The most profitable film in the dataset is Star Wars."
   ]
  },
  {
   "cell_type": "markdown",
   "id": "626a40a1",
   "metadata": {},
   "source": [
    "# Limitations\n",
    "\n",
    "- Budget and revenue columns failed to show values in their correct currencies. Since the dataset contains a column for production country, we are aware that its values may not always be in US dollars.\n",
    "\n",
    "- Since the actual formulas for vote average and vote count are unknown, it is recommended to utilise those numbers when completely analysing the data.\n",
    "\n",
    "- There were too many xero values in the data set, so I made the decision to preserve them all. It was too large of a number to remove from the dataset. Mean values were used in their stead."
   ]
  },
  {
   "cell_type": "code",
   "execution_count": null,
   "id": "207b0a37",
   "metadata": {},
   "outputs": [],
   "source": []
  }
 ],
 "metadata": {
  "kernelspec": {
   "display_name": "Python 3",
   "language": "python",
   "name": "python3"
  },
  "language_info": {
   "codemirror_mode": {
    "name": "ipython",
    "version": 3
   },
   "file_extension": ".py",
   "mimetype": "text/x-python",
   "name": "python",
   "nbconvert_exporter": "python",
   "pygments_lexer": "ipython3",
   "version": "3.8.8"
  }
 },
 "nbformat": 4,
 "nbformat_minor": 5
}
